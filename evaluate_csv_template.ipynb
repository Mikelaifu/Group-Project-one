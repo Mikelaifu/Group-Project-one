{
 "cells": [
  {
   "cell_type": "code",
   "execution_count": 20,
   "metadata": {
    "collapsed": true
   },
   "outputs": [],
   "source": [
    "# Dependencies\n",
    "import numpy as np\n",
    "import pandas as pd\n",
    "from datetime import datetime\n",
    "import matplotlib.pyplot as plt\n",
    "from matplotlib import style\n",
    "import time\n",
    "import glob\n",
    "style.use('ggplot')\n"
   ]
  },
  {
   "cell_type": "code",
   "execution_count": 13,
   "metadata": {},
   "outputs": [],
   "source": [
    "def evaluate_csv_file(filename):\n",
    "    # read in csv file\n",
    "    df = pd.read_csv(filename, index_col = 0)\n",
    "    summary_df = pd.DataFrame({\n",
    "        \"Account\": [df['Account Name'][0]],\n",
    "        \"Created\": df['Account Created Date'][0],\n",
    "        \"Followers Count\": df['Followers Count'][0],\n",
    "        \"Tweets Count\": len(df),\n",
    "        \"Start Date\": df['Tweet Date'][len(df)-1],\n",
    "        \"End Date\": df['Tweet Date'][0],\n",
    "        \"Account Location\": df['Account Location'][0]\n",
    "    })\n",
    "    summary_df = summary_df[[\"Account\", \"Created\", \"Tweets Count\", \"Start Date\", \"End Date\",\n",
    "                         \"Followers Count\", \"Account Location\"]]\n",
    "    return summary_df"
   ]
  },
  {
   "cell_type": "code",
   "execution_count": 14,
   "metadata": {},
   "outputs": [],
   "source": [
    "summary1 = evaluate_csv_file(\"201698-2018317-@Coinigy.csv\")\n",
    "summary2 = evaluate_csv_file(\"2011810-2017915-@btcecom.csv\")"
   ]
  },
  {
   "cell_type": "code",
   "execution_count": 15,
   "metadata": {
    "collapsed": true
   },
   "outputs": [],
   "source": [
    "summary = pd.concat([summary1, summary2])"
   ]
  },
  {
   "cell_type": "code",
   "execution_count": 16,
   "metadata": {},
   "outputs": [
    {
     "data": {
      "text/html": [
       "<div>\n",
       "<style>\n",
       "    .dataframe thead tr:only-child th {\n",
       "        text-align: right;\n",
       "    }\n",
       "\n",
       "    .dataframe thead th {\n",
       "        text-align: left;\n",
       "    }\n",
       "\n",
       "    .dataframe tbody tr th {\n",
       "        vertical-align: top;\n",
       "    }\n",
       "</style>\n",
       "<table border=\"1\" class=\"dataframe\">\n",
       "  <thead>\n",
       "    <tr style=\"text-align: right;\">\n",
       "      <th></th>\n",
       "      <th>Account</th>\n",
       "      <th>Created</th>\n",
       "      <th>Tweets Count</th>\n",
       "      <th>Start Date</th>\n",
       "      <th>End Date</th>\n",
       "      <th>Followers Count</th>\n",
       "      <th>Account Location</th>\n",
       "    </tr>\n",
       "  </thead>\n",
       "  <tbody>\n",
       "    <tr>\n",
       "      <th>0</th>\n",
       "      <td>Coinigy</td>\n",
       "      <td>Thu Jan 30 23:21:41 +0000 2014</td>\n",
       "      <td>3202</td>\n",
       "      <td>Thu Sep 08 01:01:33 +0000 2016</td>\n",
       "      <td>Sat Mar 17 08:10:13 +0000 2018</td>\n",
       "      <td>17753</td>\n",
       "      <td>Milwaukee, WI, USA</td>\n",
       "    </tr>\n",
       "    <tr>\n",
       "      <th>0</th>\n",
       "      <td>btcecom</td>\n",
       "      <td>Wed Aug 10 10:29:50 +0000 2011</td>\n",
       "      <td>1220</td>\n",
       "      <td>Wed Aug 10 10:33:57 +0000 2011</td>\n",
       "      <td>Fri Sep 15 20:11:39 +0000 2017</td>\n",
       "      <td>55204</td>\n",
       "      <td>NaN</td>\n",
       "    </tr>\n",
       "  </tbody>\n",
       "</table>\n",
       "</div>"
      ],
      "text/plain": [
       "   Account                         Created  Tweets Count  \\\n",
       "0  Coinigy  Thu Jan 30 23:21:41 +0000 2014          3202   \n",
       "0  btcecom  Wed Aug 10 10:29:50 +0000 2011          1220   \n",
       "\n",
       "                       Start Date                        End Date  \\\n",
       "0  Thu Sep 08 01:01:33 +0000 2016  Sat Mar 17 08:10:13 +0000 2018   \n",
       "0  Wed Aug 10 10:33:57 +0000 2011  Fri Sep 15 20:11:39 +0000 2017   \n",
       "\n",
       "   Followers Count    Account Location  \n",
       "0            17753  Milwaukee, WI, USA  \n",
       "0            55204                 NaN  "
      ]
     },
     "execution_count": 16,
     "metadata": {},
     "output_type": "execute_result"
    }
   ],
   "source": [
    "summary1\n",
    "# summary2\n",
    "summary"
   ]
  },
  {
   "cell_type": "code",
   "execution_count": 18,
   "metadata": {
    "collapsed": true
   },
   "outputs": [],
   "source": [
    "files = listdir()"
   ]
  },
  {
   "cell_type": "code",
   "execution_count": 19,
   "metadata": {},
   "outputs": [
    {
     "data": {
      "text/plain": [
       "['.DS_Store',\n",
       " '.ipynb_checkpoints',\n",
       " '2011810-2017915-@btcecom.csv',\n",
       " '20121026-2018316-@bitfinex.csv',\n",
       " '20131111-2017117-@itBit.csv',\n",
       " '2013519-20171014-@cryptsy.csv',\n",
       " '2014211-2017411-@BitcoinSource.csv',\n",
       " '201698-2018317-@Coinigy.csv',\n",
       " '2017313-2018317-@bisq_network.csv',\n",
       " '__pycache__',\n",
       " 'evaluate_csv_template.ipynb',\n",
       " 'mydata.py',\n",
       " 'project_work_file.ipynb',\n",
       " 'tweets_pull_template.ipynb',\n",
       " 'TwitterbotKeys.py']"
      ]
     },
     "execution_count": 19,
     "metadata": {},
     "output_type": "execute_result"
    }
   ],
   "source": [
    "files"
   ]
  },
  {
   "cell_type": "code",
   "execution_count": 21,
   "metadata": {
    "collapsed": true
   },
   "outputs": [],
   "source": [
    "files = glob.glob(\"*.csv\")"
   ]
  },
  {
   "cell_type": "code",
   "execution_count": 22,
   "metadata": {},
   "outputs": [
    {
     "data": {
      "text/plain": [
       "['2011810-2017915-@btcecom.csv',\n",
       " '20121026-2018316-@bitfinex.csv',\n",
       " '20131111-2017117-@itBit.csv',\n",
       " '2013519-20171014-@cryptsy.csv',\n",
       " '2014211-2017411-@BitcoinSource.csv',\n",
       " '201698-2018317-@Coinigy.csv',\n",
       " '2017313-2018317-@bisq_network.csv']"
      ]
     },
     "execution_count": 22,
     "metadata": {},
     "output_type": "execute_result"
    }
   ],
   "source": [
    "files"
   ]
  },
  {
   "cell_type": "code",
   "execution_count": null,
   "metadata": {
    "collapsed": true
   },
   "outputs": [],
   "source": []
  }
 ],
 "metadata": {
  "kernelspec": {
   "display_name": "Python 3",
   "language": "python",
   "name": "python3"
  },
  "language_info": {
   "codemirror_mode": {
    "name": "ipython",
    "version": 3
   },
   "file_extension": ".py",
   "mimetype": "text/x-python",
   "name": "python",
   "nbconvert_exporter": "python",
   "pygments_lexer": "ipython3",
   "version": "3.6.1"
  }
 },
 "nbformat": 4,
 "nbformat_minor": 2
}
